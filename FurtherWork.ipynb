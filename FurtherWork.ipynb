{
 "metadata": {
  "name": "",
  "signature": "sha256:a61df2b81a9a42f1dfe775c5541b2a3c623241071e3db3af68ec88d51d2515ef"
 },
 "nbformat": 3,
 "nbformat_minor": 0,
 "worksheets": [
  {
   "cells": [
    {
     "cell_type": "code",
     "collapsed": false,
     "input": [
      "import pandas as pd\n",
      "\n",
      "data = pd.read_csv('DOHMH_New_York_City_Restaurant_Inspection_Results.csv')"
     ],
     "language": "python",
     "metadata": {},
     "outputs": [],
     "prompt_number": 127
    },
    {
     "cell_type": "code",
     "collapsed": false,
     "input": [
      "len(data)"
     ],
     "language": "python",
     "metadata": {},
     "outputs": [
      {
       "metadata": {},
       "output_type": "pyout",
       "prompt_number": 128,
       "text": [
        "516727"
       ]
      }
     ],
     "prompt_number": 128
    },
    {
     "cell_type": "markdown",
     "metadata": {},
     "source": [
      "For this test we are aiming to predict if a restaurant is either in the zip codes 10023 and 10019 (representing upper midtown west, columbus circle, and the lower upper westside) versus the zipcodes 11355, 11354, and 11368 (Flushing and Corona Queens) based on a single review.  \n",
      "\n",
      "The restaurants in the former group have a much higher proportion of low scoring restaurants than the latter group.  Additionally, both regions have roughly the same number of total reviews listed in the NYC DOH database.\n",
      "\n",
      "We begin by isolating all restaurants in each region and aggregating all the violations from each restaurant for each review."
     ]
    },
    {
     "cell_type": "code",
     "collapsed": false,
     "input": [
      "def checkzips(zip):\n",
      "    fgroup = [10023, 10019]\n",
      "    tgroup = [11355, 11354, 11368]\n",
      "    \n",
      "    if zip in fgroup:\n",
      "        return 0\n",
      "    elif zip in tgroup:\n",
      "        return 1\n",
      "    else:\n",
      "        return -1\n",
      "\n",
      "data['ZIPCAT'] = data['ZIPCODE'].apply(checkzips)\n"
     ],
     "language": "python",
     "metadata": {},
     "outputs": [],
     "prompt_number": 129
    },
    {
     "cell_type": "code",
     "collapsed": false,
     "input": [
      "speczips = data[data['ZIPCAT'] != -1]\n",
      "speczips = speczips.dropna(subset = ['DBA'])\n",
      "speczips = speczips[speczips['INSPECTION DATE'] != '01/01/1900']"
     ],
     "language": "python",
     "metadata": {},
     "outputs": [],
     "prompt_number": 130
    },
    {
     "cell_type": "markdown",
     "metadata": {},
     "source": [
      "For reference here are the most common violations for each area.  Note that many of the top 10 are shared for each area."
     ]
    },
    {
     "cell_type": "code",
     "collapsed": false,
     "input": [
      "speczips[speczips['ZIPCAT'] == 0]['VIOLATION CODE'].value_counts()"
     ],
     "language": "python",
     "metadata": {},
     "outputs": [
      {
       "metadata": {},
       "output_type": "pyout",
       "prompt_number": 131,
       "text": [
        "10F    2246\n",
        "02G    1766\n",
        "08A    1366\n",
        "06D    1109\n",
        "10B    1038\n",
        "04L     929\n",
        "06C     810\n",
        "04N     749\n",
        "02B     680\n",
        "04H     512\n",
        "06E     500\n",
        "04M     364\n",
        "06F     300\n",
        "10H     296\n",
        "06A     288\n",
        "...\n",
        "06G    3\n",
        "07A    2\n",
        "06H    2\n",
        "05C    2\n",
        "15K    2\n",
        "22F    2\n",
        "06I    2\n",
        "20B    1\n",
        "18B    1\n",
        "02F    1\n",
        "05B    1\n",
        "18D    1\n",
        "04F    1\n",
        "16E    1\n",
        "02I    1\n",
        "Length: 77, dtype: int64"
       ]
      }
     ],
     "prompt_number": 131
    },
    {
     "cell_type": "code",
     "collapsed": false,
     "input": [
      "speczips[speczips['ZIPCAT'] == 1]['VIOLATION CODE'].value_counts()"
     ],
     "language": "python",
     "metadata": {},
     "outputs": [
      {
       "metadata": {},
       "output_type": "pyout",
       "prompt_number": 132,
       "text": [
        "10F    2190\n",
        "08A    1879\n",
        "02G    1519\n",
        "04L    1404\n",
        "06C    1107\n",
        "02B    1074\n",
        "06D    1005\n",
        "10B     938\n",
        "04M     786\n",
        "04N     728\n",
        "06E     527\n",
        "06F     460\n",
        "04H     451\n",
        "04A     408\n",
        "06A     381\n",
        "...\n",
        "03E    2\n",
        "05B    2\n",
        "02D    2\n",
        "04F    2\n",
        "07A    2\n",
        "18F    2\n",
        "02I    2\n",
        "22E    1\n",
        "04B    1\n",
        "02F    1\n",
        "03G    1\n",
        "04G    1\n",
        "04I    1\n",
        "18C    1\n",
        "16F    1\n",
        "Length: 81, dtype: int64"
       ]
      }
     ],
     "prompt_number": 132
    },
    {
     "cell_type": "code",
     "collapsed": false,
     "input": [
      "grouped = speczips.groupby(['CAMIS', 'INSPECTION DATE'])"
     ],
     "language": "python",
     "metadata": {},
     "outputs": [],
     "prompt_number": 133
    },
    {
     "cell_type": "code",
     "collapsed": false,
     "input": [
      "import numpy as np\n",
      "test = pd.DataFrame(grouped['VIOLATION CODE'].apply(lambda x: np.array_str(np.array(x))))\n",
      "codes = np.array(test['VIOLATION CODE'])\n"
     ],
     "language": "python",
     "metadata": {},
     "outputs": [],
     "prompt_number": 134
    },
    {
     "cell_type": "code",
     "collapsed": false,
     "input": [
      "cats = speczips[['CAMIS', 'INSPECTION DATE', 'ZIPCAT']]"
     ],
     "language": "python",
     "metadata": {},
     "outputs": [],
     "prompt_number": 135
    },
    {
     "cell_type": "code",
     "collapsed": false,
     "input": [
      "cats = cats.groupby(['CAMIS', 'INSPECTION DATE'])['ZIPCAT'].mean()"
     ],
     "language": "python",
     "metadata": {},
     "outputs": [],
     "prompt_number": 136
    },
    {
     "cell_type": "code",
     "collapsed": false,
     "input": [
      "test['ZIPCAT'] = pd.DataFrame(cats)['ZIPCAT']"
     ],
     "language": "python",
     "metadata": {},
     "outputs": [],
     "prompt_number": 137
    },
    {
     "cell_type": "code",
     "collapsed": false,
     "input": [
      "test['ZIPCAT'].value_counts()"
     ],
     "language": "python",
     "metadata": {},
     "outputs": [
      {
       "metadata": {},
       "output_type": "pyout",
       "prompt_number": 138,
       "text": [
        "1    5744\n",
        "0    5535\n",
        "dtype: int64"
       ]
      }
     ],
     "prompt_number": 138
    },
    {
     "cell_type": "markdown",
     "metadata": {},
     "source": [
      "We now try to create a model to predict a restaurants region using a support vector machine.  We represent each review using its bag-of-words representation of the violation codes."
     ]
    },
    {
     "cell_type": "code",
     "collapsed": false,
     "input": [
      "from sklearn.feature_extraction.text import CountVectorizer\n",
      "text_train = test['VIOLATION CODE'].tolist()\n",
      "cv = CountVectorizer()\n",
      "cv.fit(text_train)"
     ],
     "language": "python",
     "metadata": {},
     "outputs": [
      {
       "metadata": {},
       "output_type": "pyout",
       "prompt_number": 139,
       "text": [
        "CountVectorizer(analyzer=u'word', binary=False, charset=None,\n",
        "        charset_error=None, decode_error=u'strict',\n",
        "        dtype=<type 'numpy.int64'>, encoding=u'utf-8', input=u'content',\n",
        "        lowercase=True, max_df=1.0, max_features=None, min_df=1,\n",
        "        ngram_range=(1, 1), preprocessor=None, stop_words=None,\n",
        "        strip_accents=None, token_pattern=u'(?u)\\\\b\\\\w\\\\w+\\\\b',\n",
        "        tokenizer=None, vocabulary=None)"
       ]
      }
     ],
     "prompt_number": 139
    },
    {
     "cell_type": "code",
     "collapsed": false,
     "input": [
      "X_train = cv.transform(text_train)\n",
      "X_train"
     ],
     "language": "python",
     "metadata": {},
     "outputs": [
      {
       "metadata": {},
       "output_type": "pyout",
       "prompt_number": 140,
       "text": [
        "<11279x89 sparse matrix of type '<type 'numpy.int64'>'\n",
        "\twith 35790 stored elements in Compressed Sparse Row format>"
       ]
      }
     ],
     "prompt_number": 140
    },
    {
     "cell_type": "code",
     "collapsed": false,
     "input": [
      "from sklearn.svm import LinearSVC\n",
      "svm = LinearSVC(C=.01)"
     ],
     "language": "python",
     "metadata": {},
     "outputs": [],
     "prompt_number": 141
    },
    {
     "cell_type": "code",
     "collapsed": false,
     "input": [
      "y_train = np.array(test['ZIPCAT'])\n"
     ],
     "language": "python",
     "metadata": {},
     "outputs": [],
     "prompt_number": 142
    },
    {
     "cell_type": "code",
     "collapsed": false,
     "input": [
      "svm.fit(X_train, y_train)"
     ],
     "language": "python",
     "metadata": {},
     "outputs": [
      {
       "metadata": {},
       "output_type": "pyout",
       "prompt_number": 143,
       "text": [
        "LinearSVC(C=0.01, class_weight=None, dual=True, fit_intercept=True,\n",
        "     intercept_scaling=1, loss='l2', multi_class='ovr', penalty='l2',\n",
        "     random_state=None, tol=0.0001, verbose=0)"
       ]
      }
     ],
     "prompt_number": 143
    },
    {
     "cell_type": "code",
     "collapsed": false,
     "input": [
      "svm.score(X_train, y_train)"
     ],
     "language": "python",
     "metadata": {},
     "outputs": [
      {
       "metadata": {},
       "output_type": "pyout",
       "prompt_number": 144,
       "text": [
        "0.5943789343026864"
       ]
      }
     ],
     "prompt_number": 144
    },
    {
     "cell_type": "markdown",
     "metadata": {},
     "source": [
      "Below is a chart of the most important distinguishing features according to the SVM.  Features in blue correspond to Flushing/Corona while features in red correspond to Columbus Circle/UWS"
     ]
    },
    {
     "cell_type": "code",
     "collapsed": false,
     "input": [
      "coef = svm.coef_.ravel()\n",
      "positive_coefficients = np.argsort(coef)[-25:]\n",
      "negative_coefficients = np.argsort(coef)[:25]\n",
      "interesting_coefficients = np.hstack([negative_coefficients, positive_coefficients])\n"
     ],
     "language": "python",
     "metadata": {},
     "outputs": [],
     "prompt_number": 145
    },
    {
     "cell_type": "code",
     "collapsed": false,
     "input": [
      "%matplotlib inline\n",
      "import matplotlib.pyplot as plt\n",
      "\n",
      "plt.figure(figsize=(15, 5))\n",
      "plt.bar(np.arange(50), coef[interesting_coefficients], color=[\"red\" if c < 0 else \"blue\" for c in coef[interesting_coefficients]])\n",
      "feature_names = np.array(cv.get_feature_names())\n",
      "plt.xticks(np.arange(1, 51), feature_names[interesting_coefficients], rotation=60, ha=\"right\");"
     ],
     "language": "python",
     "metadata": {},
     "outputs": [
      {
       "metadata": {},
       "output_type": "display_data",
       "png": "[encoded data removed]",
       "text": [
        "<matplotlib.figure.Figure at 0x7f28b7eb5910>"
       ]
      }
     ],
     "prompt_number": 146
    },
    {
     "cell_type": "markdown",
     "metadata": {},
     "source": [
      "Here are a few of the most distinguishing violations:\n",
      "\n",
      "Flushing/Corona\n",
      "\n",
      "04m: Evidence of roaches.\n",
      "\n",
      "10i: Single service items improperly stored or reused.\n",
      "\n",
      "15k:  Failed to inform smokers of Smoke-Free Air Act.\n",
      "\n",
      "\n",
      "Columbus Circle/UWS\n",
      "\n",
      "04c:  Bare hand contact with ready to eat foods.\n",
      "\n",
      "04k:  Evidence of rats.\n",
      "\n",
      "09a:  Canned food observed dented and not segregated.\n",
      "\n",
      "See:  http://www.nyc.gov/html/doh/downloads/pdf/rii/ri-violation-penalty.pdf\n"
     ]
    },
    {
     "cell_type": "markdown",
     "metadata": {},
     "source": [
      "We try again using naive Bayes."
     ]
    },
    {
     "cell_type": "code",
     "collapsed": false,
     "input": [
      "from sklearn.naive_bayes import MultinomialNB\n",
      "mnb = MultinomialNB()\n",
      "\n",
      "mnb.fit(X_train.toarray(), y_train)"
     ],
     "language": "python",
     "metadata": {},
     "outputs": [
      {
       "metadata": {},
       "output_type": "pyout",
       "prompt_number": 156,
       "text": [
        "MultinomialNB(alpha=1.0, class_prior=None, fit_prior=True)"
       ]
      }
     ],
     "prompt_number": 156
    },
    {
     "cell_type": "code",
     "collapsed": false,
     "input": [
      "mnb.score(X_train.toarray(), y_train)"
     ],
     "language": "python",
     "metadata": {},
     "outputs": [
      {
       "metadata": {},
       "output_type": "pyout",
       "prompt_number": 157,
       "text": [
        "0.59429027396045753"
       ]
      }
     ],
     "prompt_number": 157
    },
    {
     "cell_type": "markdown",
     "metadata": {},
     "source": [
      "Finally, we obtain our best results with a Random Forest Classifier."
     ]
    },
    {
     "cell_type": "code",
     "collapsed": false,
     "input": [
      "from sklearn.ensemble import RandomForestClassifier\n",
      "rfc = RandomForestClassifier()\n",
      "\n",
      "rfc.fit(X_train.toarray(), y_train)\n"
     ],
     "language": "python",
     "metadata": {},
     "outputs": [
      {
       "metadata": {},
       "output_type": "pyout",
       "prompt_number": 158,
       "text": [
        "RandomForestClassifier(bootstrap=True, compute_importances=None,\n",
        "            criterion='gini', max_depth=None, max_features='auto',\n",
        "            max_leaf_nodes=None, min_density=None, min_samples_leaf=1,\n",
        "            min_samples_split=2, n_estimators=10, n_jobs=1,\n",
        "            oob_score=False, random_state=None, verbose=0)"
       ]
      }
     ],
     "prompt_number": 158
    },
    {
     "cell_type": "code",
     "collapsed": false,
     "input": [
      "rfc.score(X_train.toarray(), y_train)"
     ],
     "language": "python",
     "metadata": {},
     "outputs": [
      {
       "metadata": {},
       "output_type": "pyout",
       "prompt_number": 159,
       "text": [
        "0.75653870023938297"
       ]
      }
     ],
     "prompt_number": 159
    },
    {
     "cell_type": "code",
     "collapsed": false,
     "input": [],
     "language": "python",
     "metadata": {},
     "outputs": [],
     "prompt_number": 123
    },
    {
     "cell_type": "code",
     "collapsed": false,
     "input": [],
     "language": "python",
     "metadata": {},
     "outputs": [],
     "prompt_number": 123
    },
    {
     "cell_type": "code",
     "collapsed": false,
     "input": [],
     "language": "python",
     "metadata": {},
     "outputs": [],
     "prompt_number": 123
    },
    {
     "cell_type": "code",
     "collapsed": false,
     "input": [],
     "language": "python",
     "metadata": {},
     "outputs": [],
     "prompt_number": 124
    },
    {
     "cell_type": "code",
     "collapsed": false,
     "input": [],
     "language": "python",
     "metadata": {},
     "outputs": []
    }
   ],
   "metadata": {}
  }
 ]
}